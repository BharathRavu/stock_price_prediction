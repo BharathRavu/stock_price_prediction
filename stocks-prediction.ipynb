{
 "cells": [
  {
   "cell_type": "markdown",
   "metadata": {},
   "source": [
    "# Stock price prediction\n",
    "\n",
    "### Contents\n",
    "**[Background](#Background)**<br>\n",
    "**[Question](#Question)**<br>\n",
    "**[Source of data](#Source-of-data)**<br>\n",
    "**[Results](#Results)**<br>\n",
    "    - [Logistic Regression](#Logistic-Regression)   \n",
    "    - [KNN](#KNN)   \n",
    "    - [Support vector classifier](#Support-Vector-Classifier(SVC))   \n",
    "    - [LSTM](#LSTM)   \n",
    "\n",
    "\n",
    "## Background\n",
    "\n",
    "   \n",
    "\n",
    "\n",
    "## Question\n",
    "\n",
    "\n",
    "\n",
    "## Source of data\n",
    "\n",
    "Data is downloaded from Yahoo Finance."
   ]
  },
  {
   "cell_type": "code",
   "execution_count": 1,
   "metadata": {},
   "outputs": [],
   "source": [
    "import pandas as pd\n",
    "import os\n",
    "import numpy as np\n",
    "import matplotlib.pyplot as plt\n",
    "%matplotlib inline\n",
    "from datetime import datetime\n",
    "from sklearn.metrics import confusion_matrix\n",
    "from sklearn.linear_model import LogisticRegression\n",
    "from sklearn.neighbors import KNeighborsClassifier\n",
    "from sklearn.svm import SVC"
   ]
  },
  {
   "cell_type": "code",
   "execution_count": 2,
   "metadata": {},
   "outputs": [],
   "source": [
    "# Constants\n",
    "data_folder='data_2020_09_25'\n",
    "variable='Adj Close'\n",
    "start_date = '2012-01-01'\n",
    "end_date = '2017-05-31'"
   ]
  },
  {
   "cell_type": "code",
   "execution_count": 3,
   "metadata": {},
   "outputs": [],
   "source": [
    "def get_single_stocks_data_from_folder(data_folder, token):\n",
    "    filename=token+'.NS.csv'\n",
    "    file_path=os.path.join(data_folder,filename)\n",
    "    data=pd.read_csv(file_path)\n",
    "    data['Date'] = data['Date'].apply(pd.to_datetime)\n",
    "    data.set_index('Date',inplace=True)\n",
    "    missing_values_count = data.isnull().sum()\n",
    "    print('Missing Values:\\n', missing_values_count)\n",
    "    data.dropna(inplace=True)\n",
    "    return data\n",
    "\n",
    "def add_returns_direction2stocks_DF(df_stocks):\n",
    "    df_stocks['returns']= df_stocks['Adj Close'].pct_change(1)*100\n",
    "    df_stocks.dropna(inplace=True)\n",
    "    df_stocks['direction']=np.sign(df_stocks['returns'])\n",
    "    df_stocks['direction'][df_stocks['direction']==0] = 1\n",
    "    return df_stocks\n",
    "\n",
    "def generate_stocks_train_test_data(data, n_lags, start_date, end_date, train_size, variables=None):\n",
    "    # Adding returns column to the dataframe\n",
    "    data['returns']= data['Adj Close'].pct_change(1)*100\n",
    "    data.dropna(inplace=True)\n",
    "    # If stock price goes up (+1) or goes down (-1). Create a direction of the stock price movement column\n",
    "    data['direction']=np.sign(data['returns'])\n",
    "    data['direction'][data['direction']==0] = 1\n",
    "    \n",
    "    Xy_tot=pd.DataFrame()\n",
    "    Xy_tot['direction']=data['direction']\n",
    "    \n",
    "    for i in range(n_lags):\n",
    "        Xy_tot['lag%s'%str(i+1)]=data['returns'].shift(i+1)\n",
    "        \n",
    "    if variables != None:\n",
    "        Xy_tot[variables] = data[variables].shift(1)\n",
    "        \n",
    "    Xy_tot.dropna(inplace=True)\n",
    "    mask = (Xy_tot.index >= start_date) & (Xy_tot.index <= end_date)\n",
    "    Xy_tot=Xy_tot.loc[mask]\n",
    "    \n",
    "    start_test_index=int(len(Xy_tot.index)*train_size)\n",
    "    start_test=Xy_tot.index[start_test_index]\n",
    "    \n",
    "    Xy_train=Xy_tot[Xy_tot.index<start_test]\n",
    "    Xy_test=Xy_tot[Xy_tot.index>=start_test]\n",
    "\n",
    "    y_train=Xy_train['direction']\n",
    "    y_test=Xy_test['direction']\n",
    "    X_train=Xy_train.drop('direction',axis=1)\n",
    "    X_test=Xy_test.drop('direction',axis=1)\n",
    "\n",
    "\n",
    "    return X_train, X_test, y_train, y_test"
   ]
  },
  {
   "cell_type": "code",
   "execution_count": 4,
   "metadata": {},
   "outputs": [
    {
     "name": "stdout",
     "output_type": "stream",
     "text": [
      "Missing Values:\n",
      " Open         20\n",
      "High         20\n",
      "Low          20\n",
      "Close        20\n",
      "Adj Close    20\n",
      "Volume       20\n",
      "dtype: int64\n"
     ]
    }
   ],
   "source": [
    "stocks_hist=get_single_stocks_data_from_folder(data_folder, 'TCS')"
   ]
  },
  {
   "cell_type": "code",
   "execution_count": 6,
   "metadata": {},
   "outputs": [],
   "source": [
    "start_date = '2010-09-25'\n",
    "end_date = '2020-09-25'\n",
    "mask = (stocks_hist.index >= start_date) & (stocks_hist.index <= end_date)"
   ]
  },
  {
   "cell_type": "code",
   "execution_count": 7,
   "metadata": {},
   "outputs": [
    {
     "data": {
      "text/html": [
       "<div>\n",
       "<style scoped>\n",
       "    .dataframe tbody tr th:only-of-type {\n",
       "        vertical-align: middle;\n",
       "    }\n",
       "\n",
       "    .dataframe tbody tr th {\n",
       "        vertical-align: top;\n",
       "    }\n",
       "\n",
       "    .dataframe thead th {\n",
       "        text-align: right;\n",
       "    }\n",
       "</style>\n",
       "<table border=\"1\" class=\"dataframe\">\n",
       "  <thead>\n",
       "    <tr style=\"text-align: right;\">\n",
       "      <th></th>\n",
       "      <th>Open</th>\n",
       "      <th>High</th>\n",
       "      <th>Low</th>\n",
       "      <th>Close</th>\n",
       "      <th>Adj Close</th>\n",
       "      <th>Volume</th>\n",
       "    </tr>\n",
       "    <tr>\n",
       "      <th>Date</th>\n",
       "      <th></th>\n",
       "      <th></th>\n",
       "      <th></th>\n",
       "      <th></th>\n",
       "      <th></th>\n",
       "      <th></th>\n",
       "    </tr>\n",
       "  </thead>\n",
       "  <tbody>\n",
       "    <tr>\n",
       "      <th>2010-09-27</th>\n",
       "      <td>467.500</td>\n",
       "      <td>470.725006</td>\n",
       "      <td>461.000000</td>\n",
       "      <td>463.799988</td>\n",
       "      <td>351.578674</td>\n",
       "      <td>3423290.0</td>\n",
       "    </tr>\n",
       "    <tr>\n",
       "      <th>2010-09-28</th>\n",
       "      <td>462.625</td>\n",
       "      <td>465.149994</td>\n",
       "      <td>457.049988</td>\n",
       "      <td>459.825012</td>\n",
       "      <td>348.565552</td>\n",
       "      <td>2521714.0</td>\n",
       "    </tr>\n",
       "    <tr>\n",
       "      <th>2010-09-29</th>\n",
       "      <td>462.500</td>\n",
       "      <td>468.625000</td>\n",
       "      <td>457.450012</td>\n",
       "      <td>460.174988</td>\n",
       "      <td>348.830811</td>\n",
       "      <td>3370194.0</td>\n",
       "    </tr>\n",
       "    <tr>\n",
       "      <th>2010-09-30</th>\n",
       "      <td>462.500</td>\n",
       "      <td>465.000000</td>\n",
       "      <td>457.575012</td>\n",
       "      <td>463.475006</td>\n",
       "      <td>351.332367</td>\n",
       "      <td>7560924.0</td>\n",
       "    </tr>\n",
       "    <tr>\n",
       "      <th>2010-10-01</th>\n",
       "      <td>463.500</td>\n",
       "      <td>483.000000</td>\n",
       "      <td>461.000000</td>\n",
       "      <td>480.799988</td>\n",
       "      <td>364.465363</td>\n",
       "      <td>3326156.0</td>\n",
       "    </tr>\n",
       "    <tr>\n",
       "      <th>...</th>\n",
       "      <td>...</td>\n",
       "      <td>...</td>\n",
       "      <td>...</td>\n",
       "      <td>...</td>\n",
       "      <td>...</td>\n",
       "      <td>...</td>\n",
       "    </tr>\n",
       "    <tr>\n",
       "      <th>2020-09-18</th>\n",
       "      <td>2485.000</td>\n",
       "      <td>2500.399902</td>\n",
       "      <td>2436.399902</td>\n",
       "      <td>2449.899902</td>\n",
       "      <td>2449.899902</td>\n",
       "      <td>4183256.0</td>\n",
       "    </tr>\n",
       "    <tr>\n",
       "      <th>2020-09-21</th>\n",
       "      <td>2465.000</td>\n",
       "      <td>2504.899902</td>\n",
       "      <td>2452.149902</td>\n",
       "      <td>2465.300049</td>\n",
       "      <td>2465.300049</td>\n",
       "      <td>4598809.0</td>\n",
       "    </tr>\n",
       "    <tr>\n",
       "      <th>2020-09-22</th>\n",
       "      <td>2485.000</td>\n",
       "      <td>2555.000000</td>\n",
       "      <td>2458.000000</td>\n",
       "      <td>2522.949951</td>\n",
       "      <td>2522.949951</td>\n",
       "      <td>7499613.0</td>\n",
       "    </tr>\n",
       "    <tr>\n",
       "      <th>2020-09-23</th>\n",
       "      <td>2510.000</td>\n",
       "      <td>2519.850098</td>\n",
       "      <td>2409.000000</td>\n",
       "      <td>2467.449951</td>\n",
       "      <td>2467.449951</td>\n",
       "      <td>7502280.0</td>\n",
       "    </tr>\n",
       "    <tr>\n",
       "      <th>2020-09-24</th>\n",
       "      <td>2450.000</td>\n",
       "      <td>2450.000000</td>\n",
       "      <td>2302.600098</td>\n",
       "      <td>2332.250000</td>\n",
       "      <td>2332.250000</td>\n",
       "      <td>8424708.0</td>\n",
       "    </tr>\n",
       "  </tbody>\n",
       "</table>\n",
       "<p>2462 rows × 6 columns</p>\n",
       "</div>"
      ],
      "text/plain": [
       "                Open         High          Low        Close    Adj Close  \\\n",
       "Date                                                                       \n",
       "2010-09-27   467.500   470.725006   461.000000   463.799988   351.578674   \n",
       "2010-09-28   462.625   465.149994   457.049988   459.825012   348.565552   \n",
       "2010-09-29   462.500   468.625000   457.450012   460.174988   348.830811   \n",
       "2010-09-30   462.500   465.000000   457.575012   463.475006   351.332367   \n",
       "2010-10-01   463.500   483.000000   461.000000   480.799988   364.465363   \n",
       "...              ...          ...          ...          ...          ...   \n",
       "2020-09-18  2485.000  2500.399902  2436.399902  2449.899902  2449.899902   \n",
       "2020-09-21  2465.000  2504.899902  2452.149902  2465.300049  2465.300049   \n",
       "2020-09-22  2485.000  2555.000000  2458.000000  2522.949951  2522.949951   \n",
       "2020-09-23  2510.000  2519.850098  2409.000000  2467.449951  2467.449951   \n",
       "2020-09-24  2450.000  2450.000000  2302.600098  2332.250000  2332.250000   \n",
       "\n",
       "               Volume  \n",
       "Date                   \n",
       "2010-09-27  3423290.0  \n",
       "2010-09-28  2521714.0  \n",
       "2010-09-29  3370194.0  \n",
       "2010-09-30  7560924.0  \n",
       "2010-10-01  3326156.0  \n",
       "...               ...  \n",
       "2020-09-18  4183256.0  \n",
       "2020-09-21  4598809.0  \n",
       "2020-09-22  7499613.0  \n",
       "2020-09-23  7502280.0  \n",
       "2020-09-24  8424708.0  \n",
       "\n",
       "[2462 rows x 6 columns]"
      ]
     },
     "execution_count": 7,
     "metadata": {},
     "output_type": "execute_result"
    }
   ],
   "source": [
    "stocks_hist.loc[mask]"
   ]
  },
  {
   "cell_type": "code",
   "execution_count": 5,
   "metadata": {},
   "outputs": [],
   "source": [
    "stocks_hist=add_returns_direction2stocks_DF(stocks_hist)"
   ]
  },
  {
   "cell_type": "code",
   "execution_count": 6,
   "metadata": {},
   "outputs": [],
   "source": [
    "X_train, X_test, y_train, y_test = generate_stocks_train_test_data(stocks_hist, 4, start_date, end_date, train_size=0.9, variables=None)"
   ]
  },
  {
   "cell_type": "markdown",
   "metadata": {},
   "source": [
    "## Results\n",
    "\n",
    "### Logistic Regression"
   ]
  },
  {
   "cell_type": "code",
   "execution_count": 7,
   "metadata": {},
   "outputs": [
    {
     "data": {
      "text/plain": [
       "LogisticRegression(C=1.0, class_weight=None, dual=False, fit_intercept=True,\n",
       "                   intercept_scaling=1, l1_ratio=None, max_iter=100,\n",
       "                   multi_class='auto', n_jobs=None, penalty='l2',\n",
       "                   random_state=None, solver='lbfgs', tol=0.0001, verbose=0,\n",
       "                   warm_start=False)"
      ]
     },
     "execution_count": 7,
     "metadata": {},
     "output_type": "execute_result"
    }
   ],
   "source": [
    "logistic_model=LogisticRegression()\n",
    "logistic_model.fit(X_train,y_train)"
   ]
  },
  {
   "cell_type": "code",
   "execution_count": 8,
   "metadata": {},
   "outputs": [
    {
     "data": {
      "text/plain": [
       "array([[17, 14],\n",
       "       [45, 58]], dtype=int64)"
      ]
     },
     "execution_count": 8,
     "metadata": {},
     "output_type": "execute_result"
    }
   ],
   "source": [
    "pred_logistic=logistic_model.predict(X_test)\n",
    "confusion_matrix(pred_logistic,y_test)"
   ]
  },
  {
   "cell_type": "code",
   "execution_count": 9,
   "metadata": {},
   "outputs": [
    {
     "data": {
      "text/plain": [
       "0.5597014925373134"
      ]
     },
     "execution_count": 9,
     "metadata": {},
     "output_type": "execute_result"
    }
   ],
   "source": [
    "logistic_model.score(X_test,y_test)"
   ]
  },
  {
   "cell_type": "markdown",
   "metadata": {},
   "source": [
    "**The accuracy of the logistic regression model is 55%**"
   ]
  },
  {
   "cell_type": "markdown",
   "metadata": {},
   "source": [
    "### KNN"
   ]
  },
  {
   "cell_type": "code",
   "execution_count": 32,
   "metadata": {},
   "outputs": [
    {
     "data": {
      "text/plain": [
       "KNeighborsClassifier(algorithm='auto', leaf_size=30, metric='minkowski',\n",
       "                     metric_params=None, n_jobs=None, n_neighbors=450, p=2,\n",
       "                     weights='uniform')"
      ]
     },
     "execution_count": 32,
     "metadata": {},
     "output_type": "execute_result"
    }
   ],
   "source": [
    "knn_model=KNeighborsClassifier(450)\n",
    "knn_model.fit(X_train,y_train)"
   ]
  },
  {
   "cell_type": "code",
   "execution_count": 33,
   "metadata": {},
   "outputs": [
    {
     "data": {
      "text/plain": [
       "0.5447761194029851"
      ]
     },
     "execution_count": 33,
     "metadata": {},
     "output_type": "execute_result"
    }
   ],
   "source": [
    "pred_knn=knn_model.predict(X_test)\n",
    "knn_model.score(X_test,y_test)"
   ]
  },
  {
   "cell_type": "markdown",
   "metadata": {},
   "source": [
    "**The accuracy of the KNN is 54%**"
   ]
  },
  {
   "cell_type": "markdown",
   "metadata": {},
   "source": [
    "### Support Vector Classifier(SVC)"
   ]
  },
  {
   "cell_type": "code",
   "execution_count": 34,
   "metadata": {},
   "outputs": [],
   "source": [
    "svc_model=SVC(C=1000000.0, cache_size=200, class_weight=None, coef0=0.0, degree=3, gamma=0.0001, kernel='rbf',max_iter=-1, probability=False)"
   ]
  },
  {
   "cell_type": "code",
   "execution_count": 35,
   "metadata": {},
   "outputs": [
    {
     "data": {
      "text/plain": [
       "SVC(C=1000000.0, break_ties=False, cache_size=200, class_weight=None, coef0=0.0,\n",
       "    decision_function_shape='ovr', degree=3, gamma=0.0001, kernel='rbf',\n",
       "    max_iter=-1, probability=False, random_state=None, shrinking=True,\n",
       "    tol=0.001, verbose=False)"
      ]
     },
     "execution_count": 35,
     "metadata": {},
     "output_type": "execute_result"
    }
   ],
   "source": [
    "svc_model.fit(X_train,y_train)"
   ]
  },
  {
   "cell_type": "code",
   "execution_count": 36,
   "metadata": {},
   "outputs": [
    {
     "data": {
      "text/plain": [
       "0.5895522388059702"
      ]
     },
     "execution_count": 36,
     "metadata": {},
     "output_type": "execute_result"
    }
   ],
   "source": [
    "pred_svc=svc_model.predict(X_test)\n",
    "svc_model.score(X_test,y_test)"
   ]
  },
  {
   "cell_type": "markdown",
   "metadata": {},
   "source": [
    "**The accuracy of the SVC is 59%**"
   ]
  },
  {
   "cell_type": "markdown",
   "metadata": {},
   "source": [
    "### LSTM model\n",
    "\n",
    "work in progress for LSTM model"
   ]
  },
  {
   "cell_type": "code",
   "execution_count": null,
   "metadata": {},
   "outputs": [],
   "source": []
  }
 ],
 "metadata": {
  "kernelspec": {
   "display_name": "Python 3",
   "language": "python",
   "name": "python3"
  },
  "language_info": {
   "codemirror_mode": {
    "name": "ipython",
    "version": 3
   },
   "file_extension": ".py",
   "mimetype": "text/x-python",
   "name": "python",
   "nbconvert_exporter": "python",
   "pygments_lexer": "ipython3",
   "version": "3.7.4"
  }
 },
 "nbformat": 4,
 "nbformat_minor": 4
}
